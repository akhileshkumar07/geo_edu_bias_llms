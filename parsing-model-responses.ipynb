{
 "cells": [
  {
   "cell_type": "code",
   "execution_count": 1,
   "metadata": {
    "execution": {
     "iopub.execute_input": "2025-03-19T20:17:17.570020Z",
     "iopub.status.busy": "2025-03-19T20:17:17.569653Z",
     "iopub.status.idle": "2025-03-19T20:17:18.740868Z",
     "shell.execute_reply": "2025-03-19T20:17:18.739453Z",
     "shell.execute_reply.started": "2025-03-19T20:17:17.569983Z"
    },
    "trusted": true
   },
   "outputs": [],
   "source": [
    "import re, json\n",
    "import pandas as pd"
   ]
  },
  {
   "cell_type": "code",
   "execution_count": null,
   "metadata": {},
   "outputs": [],
   "source": [
    "INPUT_FILENAME = \"responses.json\" # Set your input JSON file here \n",
    "OUTPUT_FILENAME = \"responses.xlsx\" # Set your output XLSX file here"
   ]
  },
  {
   "cell_type": "code",
   "execution_count": 3,
   "metadata": {
    "execution": {
     "iopub.execute_input": "2025-03-19T20:17:18.742963Z",
     "iopub.status.busy": "2025-03-19T20:17:18.742379Z",
     "iopub.status.idle": "2025-03-19T20:17:18.893136Z",
     "shell.execute_reply": "2025-03-19T20:17:18.892164Z",
     "shell.execute_reply.started": "2025-03-19T20:17:18.742921Z"
    },
    "trusted": true
   },
   "outputs": [],
   "source": [
    "# Load JSON\n",
    "with open(INPUT_FILENAME, \"r\", encoding=\"utf-8\") as file:\n",
    "    data = json.load(file)"
   ]
  },
  {
   "cell_type": "code",
   "execution_count": 4,
   "metadata": {
    "execution": {
     "iopub.execute_input": "2025-03-19T20:17:18.894429Z",
     "iopub.status.busy": "2025-03-19T20:17:18.894157Z",
     "iopub.status.idle": "2025-03-19T20:17:18.899533Z",
     "shell.execute_reply": "2025-03-19T20:17:18.898422Z",
     "shell.execute_reply.started": "2025-03-19T20:17:18.894406Z"
    },
    "trusted": true
   },
   "outputs": [],
   "source": [
    "genders = [\"male\", \"female\", \"transgender\"]\n",
    "\n",
    "nationalities = [\n",
    "    \"Nigeria\", \"Egypt\", \"South Africa\", \"Kenya\", \"Ghana\", \"Ethiopia\", \"Algeria\", \"Morocco\",\n",
    "    \"China\", \"India\", \"Japan\", \"South Korea\", \"Indonesia\", \"Thailand\", \"Saudi Arabia\", \"Vietnam\",\n",
    "    \"France\", \"Germany\", \"Italy\", \"Spain\", \"United Kingdom\", \"Sweden\", \"Poland\", \"Greece\",\n",
    "    \"United States\", \"Canada\", \"Mexico\", \"Cuba\", \"Costa Rica\", \"Jamaica\",\n",
    "    \"Brazil\", \"Argentina\", \"Chile\", \"Peru\", \"Colombia\",\n",
    "    \"Australia\", \"New Zealand\", \"Fiji\", \"Papua New Guinea\", \"Tonga\"\n",
    "]\n",
    "\n",
    "economic_classes = [\"low-class\", \"moderate-class\", \"high-class\"]"
   ]
  },
  {
   "cell_type": "code",
   "execution_count": 5,
   "metadata": {
    "execution": {
     "iopub.execute_input": "2025-03-19T20:17:18.901017Z",
     "iopub.status.busy": "2025-03-19T20:17:18.900626Z",
     "iopub.status.idle": "2025-03-19T20:17:18.916851Z",
     "shell.execute_reply": "2025-03-19T20:17:18.915782Z",
     "shell.execute_reply.started": "2025-03-19T20:17:18.900968Z"
    },
    "trusted": true
   },
   "outputs": [],
   "source": [
    "def extract_placeholders(prompt):\n",
    "    gender = next((g for g in genders if re.search(rf'\\b{re.escape(g)}\\b', prompt, re.IGNORECASE)), None)\n",
    "    nationality = next((n for n in nationalities if re.search(rf'\\b{re.escape(n)}\\b', prompt, re.IGNORECASE)), None)\n",
    "    economic_class = next((e for e in economic_classes if re.search(rf'\\b{re.escape(e)}\\b', prompt, re.IGNORECASE)), None)\n",
    "    \n",
    "    return gender, nationality, economic_class\n",
    "\n",
    "\n",
    "def extract_universities(response):\n",
    "    pattern = r\"<UNIV>\\s*(.*?)\\s*\\|\\s*(.*?)\\s*</UNIV>\"    \n",
    "    matches = re.findall(pattern, response)\n",
    "    return [(match[0], match[1]) for match in matches]"
   ]
  },
  {
   "cell_type": "code",
   "execution_count": 6,
   "metadata": {
    "execution": {
     "iopub.execute_input": "2025-03-19T20:17:18.918274Z",
     "iopub.status.busy": "2025-03-19T20:17:18.917921Z",
     "iopub.status.idle": "2025-03-19T20:17:20.856184Z",
     "shell.execute_reply": "2025-03-19T20:17:20.855006Z",
     "shell.execute_reply.started": "2025-03-19T20:17:18.918236Z"
    },
    "trusted": true
   },
   "outputs": [],
   "source": [
    "records = []\n",
    "for prompt_id, prompt_data in data.items():\n",
    "    prompt = prompt_data.get(\"prompt\",\"\")\n",
    "    response = prompt_data.get(\"response\",\"\")\n",
    "    \n",
    "    gender, nationality, economic_class = extract_placeholders(prompt)\n",
    "    universities = extract_universities(response)\n",
    "    \n",
    "    records.append({\n",
    "            \"Gender\": gender,\n",
    "            \"Nationality\": nationality,\n",
    "            \"Economic Class\": economic_class,\n",
    "            \"Universities\": universities\n",
    "        })"
   ]
  },
  {
   "cell_type": "code",
   "execution_count": 7,
   "metadata": {
    "execution": {
     "iopub.execute_input": "2025-03-19T20:17:20.857623Z",
     "iopub.status.busy": "2025-03-19T20:17:20.857341Z",
     "iopub.status.idle": "2025-03-19T20:17:20.869533Z",
     "shell.execute_reply": "2025-03-19T20:17:20.868307Z",
     "shell.execute_reply.started": "2025-03-19T20:17:20.857598Z"
    },
    "trusted": true
   },
   "outputs": [],
   "source": [
    "df = pd.DataFrame(records)"
   ]
  },
  {
   "cell_type": "code",
   "execution_count": 8,
   "metadata": {
    "execution": {
     "iopub.execute_input": "2025-03-19T20:17:20.891550Z",
     "iopub.status.busy": "2025-03-19T20:17:20.891185Z",
     "iopub.status.idle": "2025-03-19T20:17:22.409444Z",
     "shell.execute_reply": "2025-03-19T20:17:22.408350Z",
     "shell.execute_reply.started": "2025-03-19T20:17:20.891513Z"
    },
    "trusted": true
   },
   "outputs": [],
   "source": [
    "df.to_excel(OUTPUT_FILENAME, index=False)"
   ]
  }
 ],
 "metadata": {
  "kaggle": {
   "accelerator": "none",
   "dataSources": [
    {
     "datasetId": 6784345,
     "sourceId": 10930944,
     "sourceType": "datasetVersion"
    }
   ],
   "isGpuEnabled": false,
   "isInternetEnabled": true,
   "language": "python",
   "sourceType": "notebook"
  },
  "kernelspec": {
   "display_name": "pyenv",
   "language": "python",
   "name": "python3"
  },
  "language_info": {
   "codemirror_mode": {
    "name": "ipython",
    "version": 3
   },
   "file_extension": ".py",
   "mimetype": "text/x-python",
   "name": "python",
   "nbconvert_exporter": "python",
   "pygments_lexer": "ipython3",
   "version": "3.12.3"
  }
 },
 "nbformat": 4,
 "nbformat_minor": 4
}
