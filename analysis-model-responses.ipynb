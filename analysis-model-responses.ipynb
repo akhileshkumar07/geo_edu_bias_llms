{
 "cells": [
  {
   "cell_type": "code",
   "execution_count": null,
   "metadata": {
    "_cell_guid": "b1076dfc-b9ad-4769-8c92-a6c4dae69d19",
    "_uuid": "8f2839f25d086af736a60e9eeb907d3b93b6e0e5",
    "trusted": true
   },
   "outputs": [],
   "source": [
    "import pandas as pd\n",
    "import matplotlib.pyplot as plt\n",
    "import seaborn as sns\n",
    "import ast\n",
    "\n",
    "from collections import Counter\n",
    "from itertools import product\n",
    "from util import create_bar_plot, generate_wordcloud, extract_universities_programs\n",
    "from util import create_heatmap\n",
    "from world_map import create_world_map\n",
    "\n",
    "import warnings\n",
    "warnings.filterwarnings(\"ignore\")\n",
    "\n",
    "sns.set_theme(style=\"whitegrid\")"
   ]
  },
  {
   "cell_type": "code",
   "execution_count": null,
   "metadata": {},
   "outputs": [],
   "source": [
    "DATASET_FILEPATH = \"\" # Set the cleaned dataset path here\n",
    "PLOT_FILEPATH = \"\"  # Set the path to save the plots here\n",
    "\n",
    "# Gemma-7B Instruct\n",
    "# Mistral-7B Instruct\n",
    "# LLaMA-3.1-8B Instruct\n",
    "\n",
    "MODEL_NAME = \"Mistral-7B Instruct\" # Set the model name here for title name in the plots"
   ]
  },
  {
   "cell_type": "markdown",
   "metadata": {},
   "source": [
    "## Load the Dataset"
   ]
  },
  {
   "cell_type": "code",
   "execution_count": null,
   "metadata": {
    "trusted": true
   },
   "outputs": [],
   "source": [
    "data = pd.read_excel(DATASET_FILEPATH)"
   ]
  },
  {
   "cell_type": "code",
   "execution_count": null,
   "metadata": {
    "trusted": true
   },
   "outputs": [],
   "source": [
    "# Convert the strings to list\n",
    "data[\"Universities\"] = data[\"Universities\"].apply(lambda x: ast.literal_eval(x))\n",
    "data[\"Country\"] = data[\"Country\"].apply(lambda x: ast.literal_eval(x))\n",
    "\n",
    "# Convert the tuples to list\n",
    "data[\"Universities\"] = data[\"Universities\"].apply(lambda x: list(map(list, x)))"
   ]
  },
  {
   "cell_type": "code",
   "execution_count": null,
   "metadata": {},
   "outputs": [],
   "source": [
    "data.head()"
   ]
  },
  {
   "cell_type": "markdown",
   "metadata": {},
   "source": [
    "## Global Analysis of the Dataset"
   ]
  },
  {
   "cell_type": "code",
   "execution_count": null,
   "metadata": {},
   "outputs": [],
   "source": [
    "universities_list, programs_list, countries_list = [], [], []\n",
    "\n",
    "for _, row in data.iterrows():\n",
    "    universities, programs = extract_universities_programs(row[\"Universities\"])\n",
    "    countries = row[\"Country\"]\n",
    "    universities_list.extend(universities)\n",
    "    programs_list.extend(programs)\n",
    "    countries_list.extend(countries)\n",
    "\n",
    "print(len(universities_list), len(programs_list), len(countries_list))"
   ]
  },
  {
   "cell_type": "code",
   "execution_count": null,
   "metadata": {},
   "outputs": [],
   "source": [
    "print(\"Unique Universities:\", len(set(universities_list)))\n",
    "print(\"Unique Programs:\", len(set(programs_list)))\n",
    "print(\"Unique Countries:\", len(set(countries_list)))"
   ]
  },
  {
   "cell_type": "code",
   "execution_count": null,
   "metadata": {},
   "outputs": [],
   "source": [
    "# Data for plotting world map plot\n",
    "\n",
    "countries_counts = Counter(countries_list)\n",
    "df_countries_counts = pd.DataFrame(countries_counts.items(), columns=[\"country\", \"frequency\"])"
   ]
  },
  {
   "cell_type": "code",
   "execution_count": null,
   "metadata": {},
   "outputs": [],
   "source": [
    "fig, ax = plt.subplots(figsize=(18, 10))\n",
    "\n",
    "unmatched_countries = create_world_map(\n",
    "    df_countries_counts,\n",
    "    ax,\n",
    "    f\"Geographic Distribution of Recommended Universities: {MODEL_NAME}\"\n",
    ")\n",
    "\n",
    "plt.tight_layout()\n",
    "\n",
    "plt.savefig(f\"{PLOT_FILEPATH}world_map_distribution.png\", dpi=300, bbox_inches='tight')\n",
    "plt.show()"
   ]
  },
  {
   "cell_type": "code",
   "execution_count": null,
   "metadata": {
    "trusted": true
   },
   "outputs": [],
   "source": [
    "top_uni = Counter(universities_list).most_common(20)\n",
    "top_prog = Counter(programs_list).most_common(20)\n",
    "top_countries = Counter(countries_list).most_common(20)\n",
    "\n",
    "uni_names, uni_counts = zip(*top_uni)\n",
    "prog_names, prog_counts = zip(*top_prog)\n",
    "country_names, country_counts = zip(*top_countries)"
   ]
  },
  {
   "cell_type": "code",
   "execution_count": null,
   "metadata": {
    "trusted": true
   },
   "outputs": [],
   "source": [
    "countries_cloud = [name.replace(\" \", \"\") for name in country_names]\n",
    "\n",
    "generate_wordcloud(countries_cloud, MODEL_NAME, save_path=f\"{PLOT_FILEPATH}countries_wordcloud.png\")"
   ]
  },
  {
   "cell_type": "code",
   "execution_count": null,
   "metadata": {
    "trusted": true
   },
   "outputs": [],
   "source": [
    "create_bar_plot(\n",
    "    x=list(country_counts),\n",
    "    y=list(country_names),\n",
    "    palette=\"viridis\",\n",
    "    xlabel=\"Count\",\n",
    "    ylabel=\"\",\n",
    "    title=f\"Top 20 Countries by University Location: {MODEL_NAME}\",\n",
    "    save_path=f\"{PLOT_FILEPATH}top_20_countries.png\"\n",
    ")"
   ]
  },
  {
   "cell_type": "code",
   "execution_count": null,
   "metadata": {
    "trusted": true
   },
   "outputs": [],
   "source": [
    "create_bar_plot(\n",
    "    x=list(uni_counts),\n",
    "    y=list(uni_names),\n",
    "    palette=\"plasma\",\n",
    "    xlabel=\"Count\",\n",
    "    ylabel=\"\",\n",
    "    title=f\"Top 20 Recommended Universities: {MODEL_NAME}\",\n",
    "    save_path=f\"{PLOT_FILEPATH}top_20_universities.png\"\n",
    ")"
   ]
  },
  {
   "cell_type": "code",
   "execution_count": null,
   "metadata": {
    "trusted": true
   },
   "outputs": [],
   "source": [
    "create_bar_plot(\n",
    "    x=list(prog_counts),\n",
    "    y=list(prog_names),\n",
    "    palette=\"coolwarm\",\n",
    "    xlabel=\"Count\",\n",
    "    ylabel=\"\",\n",
    "    title=f\"Top 20 Recommended Master Programs: {MODEL_NAME}\",\n",
    "    save_path=f\"{PLOT_FILEPATH}top_20_programs.png\"\n",
    ")"
   ]
  },
  {
   "cell_type": "markdown",
   "metadata": {},
   "source": [
    "## Analysis by 'Gender'"
   ]
  },
  {
   "cell_type": "code",
   "execution_count": null,
   "metadata": {
    "trusted": true
   },
   "outputs": [],
   "source": [
    "# Analysis by Gender\n",
    "\n",
    "genders = [\"male\", \"female\", \"transgender\"]\n",
    "\n",
    "data_gender = {gender: {\"uni\": [], \"prog\": [], \"country\": []} for gender in genders}\n",
    "\n",
    "for _, row in data.iterrows():\n",
    "    gender = row[\"Gender\"].strip()\n",
    "    if gender in data_gender:\n",
    "        universities, programs = extract_universities_programs(row[\"Universities\"])\n",
    "        countries = row[\"Country\"]\n",
    "        data_gender[gender][\"uni\"].extend(universities)\n",
    "        data_gender[gender][\"prog\"].extend(programs)\n",
    "        data_gender[gender][\"country\"].extend(countries)"
   ]
  },
  {
   "cell_type": "code",
   "execution_count": null,
   "metadata": {
    "trusted": true
   },
   "outputs": [],
   "source": [
    "uni_names, uni_counts = {}, {}\n",
    "prog_names, prog_counts = {}, {}\n",
    "country_names, country_counts = {}, {}\n",
    "\n",
    "for gender in genders:\n",
    "    top_uni = Counter(data_gender[gender][\"uni\"]).most_common(20)\n",
    "    top_prog = Counter(data_gender[gender][\"prog\"]).most_common(20)\n",
    "    top_countries = Counter(data_gender[gender][\"country\"]).most_common(20)\n",
    "\n",
    "    uni_names[gender], uni_counts[gender] = zip(*top_uni) if top_uni else ([], [])\n",
    "    prog_names[gender], prog_counts[gender] = zip(*top_prog) if top_prog else ([], [])\n",
    "    country_names[gender], country_counts[gender] = zip(*top_countries) if top_countries else ([], [])"
   ]
  },
  {
   "cell_type": "code",
   "execution_count": null,
   "metadata": {
    "trusted": true
   },
   "outputs": [],
   "source": [
    "fig, axes = plt.subplots(1, 3, figsize=(24, 6), sharey=False)\n",
    "\n",
    "for i, gender in enumerate([\"male\", \"female\", \"transgender\"]):\n",
    "    create_bar_plot(\n",
    "        x=list(uni_counts[gender]),\n",
    "        y=list(uni_names[gender]),\n",
    "        palette='plasma',\n",
    "        xlabel=\"Count\",\n",
    "        ylabel=\"Universities\" if i == 0 else \"\",\n",
    "        title=f\"Top Universities - {gender.capitalize()}\",\n",
    "        ax=axes[i]\n",
    "    )\n",
    "\n",
    "plt.tight_layout()\n",
    "plt.savefig(f\"{PLOT_FILEPATH}top_universities_by_gender.png\", dpi=300, bbox_inches='tight')\n",
    "plt.show()\n"
   ]
  },
  {
   "cell_type": "code",
   "execution_count": null,
   "metadata": {},
   "outputs": [],
   "source": [
    "top_20_universities = [uni for uni, _ in Counter(universities_list).most_common(20)]\n",
    "\n",
    "heatmap_dict = {\"University\": top_20_universities}\n",
    "\n",
    "for gender in genders:\n",
    "    uni_counter = Counter(data_gender[gender][\"uni\"])\n",
    "    heatmap_dict[gender] = [uni_counter.get(uni, 0) for uni in top_20_universities]\n",
    "\n",
    "heatmap_df = pd.DataFrame(heatmap_dict)\n",
    "heatmap_df.set_index(\"University\", inplace=True)\n",
    "\n",
    "heatmap_df = heatmap_df.T\n",
    "\n",
    "fig, ax = plt.subplots(figsize=(9, 5))\n",
    "\n",
    "create_heatmap(\n",
    "    heatmap_df=heatmap_df,\n",
    "    ax=ax,\n",
    "    cmap=\"plasma\",\n",
    "    title=\"Top 20 Recommended Universities by Gender\",\n",
    "    xlabel=\"University\",\n",
    "    ylabel=\"Gender\",\n",
    "    save_path=f\"{PLOT_FILEPATH}top_universities_by_gender_heatmap.png\"\n",
    ")"
   ]
  },
  {
   "cell_type": "code",
   "execution_count": null,
   "metadata": {
    "trusted": true
   },
   "outputs": [],
   "source": [
    "fig, axes = plt.subplots(1, 3, figsize=(24, 6), sharey=False)\n",
    "\n",
    "for i, gender in enumerate([\"male\", \"female\", \"transgender\"]):\n",
    "    create_bar_plot(\n",
    "        x=list(prog_counts[gender]),\n",
    "        y=list(prog_names[gender]),\n",
    "        palette=\"coolwarm\",\n",
    "        xlabel=\"Count\",\n",
    "        ylabel=\"Programmes\" if i == 0 else \"\",\n",
    "        title=f\"Top Programmes - {gender.capitalize()}\",\n",
    "        ax=axes[i]\n",
    "    )\n",
    "\n",
    "plt.tight_layout()\n",
    "\n",
    "plt.savefig(f\"{PLOT_FILEPATH}top_programs_by_gender.png\", dpi=300, bbox_inches='tight')\n",
    "\n",
    "plt.show()"
   ]
  },
  {
   "cell_type": "code",
   "execution_count": null,
   "metadata": {},
   "outputs": [],
   "source": [
    "top_20_programs = [prog for prog, _ in Counter(programs_list).most_common(20)]\n",
    "\n",
    "heatmap_dict = {\"Program\": top_20_programs}\n",
    "\n",
    "for gender in genders:\n",
    "    prog_counter = Counter(data_gender[gender][\"prog\"])\n",
    "    heatmap_dict[gender] = [prog_counter.get(prog, 0) for prog in top_20_programs]\n",
    "\n",
    "heatmap_df = pd.DataFrame(heatmap_dict)\n",
    "heatmap_df.set_index(\"Program\", inplace=True)\n",
    "\n",
    "heatmap_df = heatmap_df.T\n",
    "\n",
    "fig, ax = plt.subplots(figsize=(9, 5))\n",
    "\n",
    "create_heatmap(\n",
    "    heatmap_df=heatmap_df,\n",
    "    ax=ax,\n",
    "    cmap=\"coolwarm\",\n",
    "    title=\"Top 20 Recommended Programs by Gender\",\n",
    "    xlabel=\"Program\",\n",
    "    ylabel=\"Gender\",\n",
    "    save_path=f\"{PLOT_FILEPATH}top_programs_by_gender_heatmap.png\"\n",
    ")"
   ]
  },
  {
   "cell_type": "code",
   "execution_count": null,
   "metadata": {
    "trusted": true
   },
   "outputs": [],
   "source": [
    "fig, axes = plt.subplots(1, 3, figsize=(18, 6), sharey=False)\n",
    "\n",
    "for i, gender in enumerate([\"male\", \"female\", \"transgender\"]):\n",
    "    create_bar_plot(\n",
    "        x=list(country_counts[gender]),\n",
    "        y=list(country_names[gender]),\n",
    "        palette='viridis',\n",
    "        xlabel=\"Count\",\n",
    "        ylabel=\"Countries\" if i == 0 else \"\",\n",
    "        title=f\"Top Countries Recommended - {gender.capitalize()}\",\n",
    "        ax=axes[i]\n",
    "    )\n",
    "\n",
    "plt.tight_layout()\n",
    "\n",
    "plt.savefig(f\"{PLOT_FILEPATH}top_countries_by_gender.png\", dpi=300, bbox_inches='tight')\n",
    "\n",
    "plt.show()"
   ]
  },
  {
   "cell_type": "code",
   "execution_count": null,
   "metadata": {},
   "outputs": [],
   "source": [
    "top_20_countries = [country for country, _ in Counter(countries_list).most_common(20)]\n",
    "\n",
    "heatmap_dict = {\"Country\": top_20_countries}\n",
    "\n",
    "for gender in genders:\n",
    "    country_counter = Counter(data_gender[gender][\"country\"])\n",
    "    heatmap_dict[gender] = [country_counter.get(country, 0) for country in top_20_countries]\n",
    "\n",
    "heatmap_df = pd.DataFrame(heatmap_dict)\n",
    "heatmap_df.set_index(\"Country\", inplace=True)\n",
    "\n",
    "heatmap_df = heatmap_df.T\n",
    "\n",
    "fig, ax = plt.subplots(figsize=(10, 4))\n",
    "\n",
    "create_heatmap(\n",
    "    heatmap_df=heatmap_df,\n",
    "    ax=ax,\n",
    "    cmap=\"viridis\",\n",
    "    title=\"Top 20 Recommended Countries by Gender\",\n",
    "    xlabel=\"Country\",\n",
    "    ylabel=\"Gender\",\n",
    "    save_path=f\"{PLOT_FILEPATH}top_countries_by_gender_heatmap.png\"\n",
    ")"
   ]
  },
  {
   "cell_type": "markdown",
   "metadata": {},
   "source": [
    "## Analysis by 'Economic Class'"
   ]
  },
  {
   "cell_type": "code",
   "execution_count": null,
   "metadata": {
    "trusted": true
   },
   "outputs": [],
   "source": [
    "# Analysis by Economic Class\n",
    "\n",
    "economic_classes = [\"low-class\", \"moderate-class\", \"high-class\"]\n",
    "\n",
    "data_class = {eco_class: {\"uni\": [], \"prog\": [], \"country\": []} for eco_class in economic_classes}\n",
    "\n",
    "for _, row in data.iterrows():\n",
    "    eco_class = row[\"Economic Class\"].strip()\n",
    "    if eco_class in data_class:\n",
    "        universities, programs = extract_universities_programs(row[\"Universities\"])\n",
    "        countries = row[\"Country\"]\n",
    "        data_class[eco_class][\"uni\"].extend(universities)\n",
    "        data_class[eco_class][\"prog\"].extend(programs)\n",
    "        data_class[eco_class][\"country\"].extend(countries)"
   ]
  },
  {
   "cell_type": "code",
   "execution_count": null,
   "metadata": {
    "trusted": true
   },
   "outputs": [],
   "source": [
    "uni_names, uni_counts = {}, {}\n",
    "prog_names, prog_counts = {}, {}\n",
    "country_names, country_counts = {}, {}\n",
    "\n",
    "for eco_class in economic_classes:\n",
    "    top_uni = Counter(data_class[eco_class][\"uni\"]).most_common(20)\n",
    "    top_prog = Counter(data_class[eco_class][\"prog\"]).most_common(20)\n",
    "    top_countries = Counter(data_class[eco_class][\"country\"]).most_common(20)\n",
    "\n",
    "    uni_names[eco_class], uni_counts[eco_class] = zip(*top_uni) if top_uni else ([], [])\n",
    "    prog_names[eco_class], prog_counts[eco_class] = zip(*top_prog) if top_prog else ([], [])\n",
    "    country_names[eco_class], country_counts[eco_class] = zip(*top_countries) if top_countries else ([], [])"
   ]
  },
  {
   "cell_type": "code",
   "execution_count": null,
   "metadata": {
    "trusted": true
   },
   "outputs": [],
   "source": [
    "fig, axes = plt.subplots(1, 3, figsize=(30, 10), sharey=False)\n",
    "\n",
    "for i, eco_class in enumerate([\"low-class\", \"moderate-class\", \"high-class\"]):\n",
    "    create_bar_plot(\n",
    "        x=list(uni_counts[eco_class]),\n",
    "        y=list(uni_names[eco_class]),\n",
    "        palette=\"plasma\",\n",
    "        xlabel=\"Count\",\n",
    "        ylabel=\"University Name\" if i == 0 else \"\",\n",
    "        title=f\"Top Universities - {eco_class.capitalize()}\",\n",
    "        ax=axes[i]\n",
    "    )\n",
    "\n",
    "plt.tight_layout()\n",
    "\n",
    "plt.savefig(f\"{PLOT_FILEPATH}top_universities_by_eco_class.png\", dpi=300, bbox_inches='tight')\n",
    "\n",
    "plt.show()"
   ]
  },
  {
   "cell_type": "code",
   "execution_count": null,
   "metadata": {},
   "outputs": [],
   "source": [
    "top_20_universities = [uni for uni, _ in Counter(universities_list).most_common(20)]\n",
    "\n",
    "heatmap_dict = {\"University\": top_20_universities}\n",
    "\n",
    "for eco_class in economic_classes:\n",
    "    uni_counter = Counter(data_class[eco_class][\"uni\"])\n",
    "    heatmap_dict[eco_class] = [uni_counter.get(uni, 0) for uni in top_20_universities]\n",
    "\n",
    "heatmap_df = pd.DataFrame(heatmap_dict)\n",
    "heatmap_df.set_index(\"University\", inplace=True)\n",
    "\n",
    "heatmap_df = heatmap_df.T\n",
    "\n",
    "fig, ax = plt.subplots(figsize=(12, 6)) \n",
    "\n",
    "create_heatmap(\n",
    "    heatmap_df=heatmap_df,\n",
    "    ax=ax,\n",
    "    cmap=\"plasma\",\n",
    "    title=\"Top 20 Recommended Universities by Economic Class\",\n",
    "    xlabel=\"University\",\n",
    "    ylabel=\"Economic Class\",\n",
    "    save_path=f\"{PLOT_FILEPATH}top_universities_by_eco_class_heatmap.png\"\n",
    ")"
   ]
  },
  {
   "cell_type": "code",
   "execution_count": null,
   "metadata": {
    "trusted": true
   },
   "outputs": [],
   "source": [
    "fig, axes = plt.subplots(1, 3, figsize=(24, 6), sharey=False)\n",
    "\n",
    "for i, eco_class in enumerate([\"low-class\", \"moderate-class\", \"high-class\"]):\n",
    "    create_bar_plot(\n",
    "        x=prog_counts[eco_class], \n",
    "        y=prog_names[eco_class],\n",
    "        palette='coolwarm',\n",
    "        xlabel=\"Count\",\n",
    "        ylabel=\"Programmes\" if i == 0 else \"\",\n",
    "        title=f\"Top Programmes - {eco_class.capitalize()}\",\n",
    "        ax=axes[i]\n",
    "    )\n",
    "\n",
    "plt.tight_layout()\n",
    "\n",
    "plt.savefig(f\"{PLOT_FILEPATH}top_programs_by_eco_class.png\", dpi=300, bbox_inches='tight')\n",
    "\n",
    "plt.show()"
   ]
  },
  {
   "cell_type": "code",
   "execution_count": null,
   "metadata": {},
   "outputs": [],
   "source": [
    "top_20_programs = [prog for prog, _ in Counter(programs_list).most_common(20)]\n",
    "\n",
    "heatmap_dict = {\"Program\": top_20_programs}\n",
    "\n",
    "for eco_class in economic_classes:\n",
    "    prog_counter = Counter(data_class[eco_class][\"prog\"])\n",
    "    heatmap_dict[eco_class] = [prog_counter.get(prog, 0) for prog in top_20_programs]\n",
    "\n",
    "heatmap_df = pd.DataFrame(heatmap_dict)\n",
    "heatmap_df.set_index(\"Program\", inplace=True)\n",
    "\n",
    "heatmap_df = heatmap_df.T\n",
    "\n",
    "\n",
    "fig, ax = plt.subplots(figsize=(12, 5)) \n",
    "\n",
    "create_heatmap(\n",
    "    heatmap_df=heatmap_df,\n",
    "    ax=ax,\n",
    "    cmap=\"coolwarm\",\n",
    "    title=\"Top 20 Recommended Programs by Economic Class\",\n",
    "    xlabel=\"Program\",\n",
    "    ylabel=\"Economic Class\",\n",
    "    save_path=f\"{PLOT_FILEPATH}top_programs_by_eco_class_heatmap.png\"\n",
    ")"
   ]
  },
  {
   "cell_type": "code",
   "execution_count": null,
   "metadata": {
    "trusted": true
   },
   "outputs": [],
   "source": [
    "fig, axes = plt.subplots(1, 3, figsize=(18, 6), sharey=False)\n",
    "\n",
    "for i, eco_class in enumerate([\"low-class\", \"moderate-class\", \"high-class\"]):\n",
    "    create_bar_plot(\n",
    "        x=country_counts[eco_class],\n",
    "        y=country_names[eco_class],\n",
    "        palette='viridis',\n",
    "        xlabel=\"Count\",\n",
    "        ylabel=\"Countries\" if i == 0 else \"\",\n",
    "        title=f\"Top Countries Recommended - {eco_class.capitalize()}\",\n",
    "        ax=axes[i]\n",
    "    )\n",
    "\n",
    "plt.tight_layout()\n",
    "\n",
    "plt.savefig(f\"{PLOT_FILEPATH}top_countries_by_eco_class.png\", dpi=300, bbox_inches='tight')\n",
    "\n",
    "plt.show()"
   ]
  },
  {
   "cell_type": "code",
   "execution_count": null,
   "metadata": {},
   "outputs": [],
   "source": [
    "top_20_countries = [country for country, _ in Counter(countries_list).most_common(20)]\n",
    "\n",
    "heatmap_dict = {\"Country\": top_20_countries}\n",
    "\n",
    "for eco_class in economic_classes:\n",
    "    country_counter = Counter(data_class[eco_class][\"country\"])\n",
    "    heatmap_dict[eco_class] = [country_counter.get(country, 0) for country in top_20_countries]\n",
    "\n",
    "heatmap_df = pd.DataFrame(heatmap_dict)\n",
    "heatmap_df.set_index(\"Country\", inplace=True)\n",
    "\n",
    "\n",
    "heatmap_df = heatmap_df.T\n",
    "\n",
    "fig, ax = plt.subplots(figsize=(14, 5))\n",
    "\n",
    "create_heatmap(\n",
    "    heatmap_df=heatmap_df,\n",
    "    ax=ax,\n",
    "    cmap=\"viridis\",\n",
    "    title=\"Top 20 Recommended Countries by Economic Class\",\n",
    "    xlabel=\"Country\",\n",
    "    ylabel=\"Economic Class\",\n",
    "    save_path=f\"{PLOT_FILEPATH}top_countries_by_eco_class_heatmap.png\"\n",
    ")"
   ]
  },
  {
   "cell_type": "markdown",
   "metadata": {},
   "source": [
    "## Analysis by 'Nationality'"
   ]
  },
  {
   "cell_type": "code",
   "execution_count": null,
   "metadata": {
    "trusted": true
   },
   "outputs": [],
   "source": [
    "# Analysis by Nationality\n",
    "\n",
    "nationalities = [\n",
    "    \"Nigeria\", \"Egypt\", \"South Africa\", \"Kenya\", \"Ghana\", \"Ethiopia\", \"Algeria\", \"Morocco\", # Africa\n",
    "    \"China\", \"India\", \"Japan\", \"South Korea\", \"Indonesia\", \"Thailand\", \"Saudi Arabia\", \"Vietnam\", # Asia\n",
    "    \"France\", \"Germany\", \"Italy\", \"Spain\", \"United Kingdom\", \"Sweden\", \"Poland\", \"Greece\", # Europe\n",
    "    \"United States\", \"Canada\", \"Mexico\", \"Cuba\", \"Costa Rica\", \"Jamaica\", # North America\n",
    "    \"Brazil\", \"Argentina\", \"Chile\", \"Peru\", \"Colombia\", # South America\n",
    "    \"Australia\", \"New Zealand\", \"Fiji\", \"Papua New Guinea\", \"Tonga\" # Oceania\n",
    "]\n",
    "\n",
    "data_nation = {nation: {\"uni\": [], \"prog\": [], \"country\": []} for nation in nationalities}\n",
    "\n",
    "for _, row in data.iterrows():\n",
    "    nation = row[\"Nationality\"].strip()\n",
    "    if nation in data_nation:\n",
    "        universities, programs = extract_universities_programs(row[\"Universities\"])\n",
    "        countries = row[\"Country\"]\n",
    "        data_nation[nation][\"uni\"].extend(universities)\n",
    "        data_nation[nation][\"prog\"].extend(programs)\n",
    "        data_nation[nation][\"country\"].extend(countries)"
   ]
  },
  {
   "cell_type": "code",
   "execution_count": null,
   "metadata": {
    "trusted": true
   },
   "outputs": [],
   "source": [
    "uni_names, uni_counts = {}, {}\n",
    "prog_names, prog_counts = {}, {}\n",
    "country_names, country_counts = {}, {}\n",
    "\n",
    "for nation in nationalities:\n",
    "    top_uni = Counter(data_nation[nation][\"uni\"]).most_common(20)\n",
    "    top_prog = Counter(data_nation[nation][\"prog\"]).most_common(20)\n",
    "    top_countries = Counter(data_nation[nation][\"country\"]).most_common(20)\n",
    "\n",
    "    uni_names[nation], uni_counts[nation] = zip(*top_uni) if top_uni else ([], [])\n",
    "    prog_names[nation], prog_counts[nation] = zip(*top_prog) if top_prog else ([], [])\n",
    "    country_names[nation], country_counts[nation] = zip(*top_countries) if top_countries else ([], [])"
   ]
  },
  {
   "cell_type": "code",
   "execution_count": null,
   "metadata": {
    "trusted": true
   },
   "outputs": [],
   "source": [
    "fig, axes = plt.subplots(10, 4, figsize=(32, 60), sharey=False)\n",
    "axes = axes.flatten()\n",
    "\n",
    "for i, nation in enumerate(nationalities):\n",
    "    create_bar_plot(\n",
    "        x=list(uni_counts[nation]),\n",
    "        y=list(uni_names[nation]),\n",
    "        palette=\"plasma\",\n",
    "        xlabel=\"Count\",\n",
    "        ylabel=\"University Name\" if i % 4 == 0 else \"\",\n",
    "        title=f\"Top Universities - {nation}\",\n",
    "        ax=axes[i]\n",
    "    )\n",
    "\n",
    "plt.tight_layout()\n",
    "plt.show()"
   ]
  },
  {
   "cell_type": "code",
   "execution_count": null,
   "metadata": {},
   "outputs": [],
   "source": [
    "top_20_universities = [uni for uni, _ in Counter(universities_list).most_common(20)]\n",
    "\n",
    "heatmap_dict = {\"University\": top_20_universities}\n",
    "\n",
    "for nationality in nationalities:\n",
    "    uni_counter = Counter(data_nation[nationality][\"uni\"])\n",
    "    heatmap_dict[nationality] = [uni_counter.get(uni, 0) for uni in top_20_universities]\n",
    "\n",
    "heatmap_df = pd.DataFrame(heatmap_dict)\n",
    "heatmap_df.set_index(\"University\", inplace=True)\n",
    "\n",
    "plt.figure(figsize=(32, 16))\n",
    "sns.heatmap(heatmap_df, annot=True, fmt=\"d\", cmap=\"plasma\", linewidths=.5)\n",
    "plt.title(\"Top 20 Recommended Universities by Nationality\")\n",
    "plt.xlabel(\"Nationality\")\n",
    "plt.ylabel(\"University\")\n",
    "plt.tight_layout()\n",
    "\n",
    "plt.savefig(f\"{PLOT_FILEPATH}top_universities_by_nationality_heatmap.png\", dpi=300, bbox_inches='tight')\n",
    "\n",
    "plt.show()"
   ]
  },
  {
   "cell_type": "code",
   "execution_count": null,
   "metadata": {
    "trusted": true
   },
   "outputs": [],
   "source": [
    "fig, axes = plt.subplots(10, 4, figsize=(32, 60), sharey=False)\n",
    "axes = axes.flatten()\n",
    "\n",
    "for i, nation in enumerate(nationalities):\n",
    "    create_bar_plot(\n",
    "        x=list(prog_counts[nation]),\n",
    "        y=list(prog_names[nation]),\n",
    "        palette=\"coolwarm\",\n",
    "        xlabel=\"Count\",\n",
    "        ylabel=\"\",\n",
    "        title=f\"Top Programmes - {nation}\",\n",
    "        ax=axes[i]\n",
    "    )\n",
    "\n",
    "plt.tight_layout()\n",
    "plt.show()"
   ]
  },
  {
   "cell_type": "code",
   "execution_count": null,
   "metadata": {},
   "outputs": [],
   "source": [
    "top_20_programs = [prog for prog, _ in Counter(programs_list).most_common(20)]\n",
    "\n",
    "heatmap_dict = {\"Program\": top_20_programs}\n",
    "\n",
    "for nationality in nationalities:\n",
    "    prog_counter = Counter(data_nation[nationality][\"prog\"])\n",
    "    heatmap_dict[nationality] = [prog_counter.get(prog, 0) for prog in top_20_programs]\n",
    "\n",
    "heatmap_df = pd.DataFrame(heatmap_dict)\n",
    "heatmap_df.set_index(\"Program\", inplace=True)\n",
    "\n",
    "plt.figure(figsize=(32, 16))\n",
    "sns.heatmap(heatmap_df, annot=True, fmt=\"d\", cmap=\"coolwarm\", linewidths=.5)\n",
    "plt.title(\"Top 20 Recommended Programs by Nationality\")\n",
    "plt.xlabel(\"Nationality\")\n",
    "plt.ylabel(\"Program\")\n",
    "plt.tight_layout()\n",
    "\n",
    "plt.savefig(f\"{PLOT_FILEPATH}top_programs_by_nationality_heatmap.png\", dpi=300, bbox_inches='tight')\n",
    "\n",
    "plt.show()"
   ]
  },
  {
   "cell_type": "code",
   "execution_count": null,
   "metadata": {
    "trusted": true
   },
   "outputs": [],
   "source": [
    "fig, axes = plt.subplots(10, 4, figsize=(30, 60), sharey=False)\n",
    "axes = axes.flatten()\n",
    "\n",
    "for i, nation in enumerate(nationalities):\n",
    "    create_bar_plot(\n",
    "        x=list(country_counts[nation]),\n",
    "        y=list(country_names[nation]),\n",
    "        palette=\"viridis\",\n",
    "        xlabel=\"Count\",\n",
    "        ylabel=\"\",\n",
    "        title=f\"Top Countries - {nation}\",\n",
    "        ax=axes[i]\n",
    "    )\n",
    "\n",
    "plt.tight_layout()\n",
    "plt.show()"
   ]
  },
  {
   "cell_type": "code",
   "execution_count": null,
   "metadata": {},
   "outputs": [],
   "source": [
    "top_20_countries = [country for country, _ in Counter(countries_list).most_common(20)]\n",
    "\n",
    "heatmap_dict = {\"Country\": top_20_countries}\n",
    "\n",
    "for nationality in nationalities:\n",
    "    country_counter = Counter(data_nation[nationality][\"country\"])\n",
    "    heatmap_dict[nationality] = [country_counter.get(country, 0) for country in top_20_countries]\n",
    "\n",
    "heatmap_df = pd.DataFrame(heatmap_dict)\n",
    "heatmap_df.set_index(\"Country\", inplace=True)\n",
    "\n",
    "plt.figure(figsize=(32, 16))\n",
    "sns.heatmap(heatmap_df, annot=True, fmt=\"d\", cmap=\"viridis\", linewidths=.5)\n",
    "plt.title(\"Top 20 Recommended Countries by Nationality\")\n",
    "plt.xlabel(\"Nationality\")\n",
    "plt.ylabel(\"Country\")\n",
    "plt.tight_layout()\n",
    "\n",
    "plt.savefig(f\"{PLOT_FILEPATH}top_countries_by_nationality_heatmap.png\", dpi=300, bbox_inches='tight')\n",
    "\n",
    "plt.show()"
   ]
  },
  {
   "cell_type": "code",
   "execution_count": null,
   "metadata": {},
   "outputs": [],
   "source": [
    "import sys\n",
    "sys.exit(\"Execution Terminated!!\")"
   ]
  },
  {
   "cell_type": "markdown",
   "metadata": {},
   "source": [
    "## Analysis by 'Gender' and 'Nationality'"
   ]
  },
  {
   "cell_type": "code",
   "execution_count": null,
   "metadata": {},
   "outputs": [],
   "source": [
    "gender_nation_combinations = list(product(genders, nationalities))\n",
    "data_gender_nation = {\n",
    "    (gender, nation): {\"uni\": [], \"prog\": [], \"country\": []} for gender, nation in gender_nation_combinations\n",
    "}\n",
    "\n",
    "for _, row in data.iterrows():\n",
    "    gender = row[\"Gender\"].strip()\n",
    "    nation = row[\"Nationality\"].strip()\n",
    "    if (gender, nation) in data_gender_nation:        \n",
    "        universities, programs = extract_universities_programs(row[\"Universities\"])\n",
    "        countries = row[\"Country\"]\n",
    "        data_gender_nation[(gender, nation)][\"uni\"].extend(universities)\n",
    "        data_gender_nation[(gender, nation)][\"prog\"].extend(programs)\n",
    "        data_gender_nation[(gender, nation)][\"country\"].extend(countries)"
   ]
  },
  {
   "cell_type": "code",
   "execution_count": null,
   "metadata": {},
   "outputs": [],
   "source": [
    "uni_names, uni_counts = {}, {}\n",
    "prog_names, prog_counts = {}, {}\n",
    "country_names, country_counts = {}, {}\n",
    "\n",
    "for gender, nation in gender_nation_combinations:    \n",
    "    top_uni = Counter(data_gender_nation[(gender, nation)][\"uni\"]).most_common(5)    \n",
    "    top_prog = Counter(data_gender_nation[(gender, nation)][\"prog\"]).most_common(5)\n",
    "    top_countries = Counter(data_gender_nation[(gender, nation)][\"country\"]).most_common(5)\n",
    "\n",
    "    uni_names[(gender, nation)], uni_counts[(gender, nation)] = zip(*top_uni) if top_uni else ([], [])\n",
    "    prog_names[(gender, nation)], prog_counts[(gender, nation)] = zip(*top_prog) if top_prog else ([], [])\n",
    "    country_names[(gender, nation)], country_counts[(gender, nation)] = zip(*top_countries) if top_countries else ([], [])"
   ]
  },
  {
   "cell_type": "code",
   "execution_count": null,
   "metadata": {},
   "outputs": [],
   "source": [
    "selected_genders = [\"male\", \"female\", \"transgender\"]\n",
    "selected_nations = [\n",
    "    \"Nigeria\", \"Egypt\", \"South Africa\", \"Kenya\", \"Ghana\", \"Ethiopia\", \"Algeria\", \"Morocco\", # Africa\n",
    "    \"China\", \"India\", \"Japan\", \"South Korea\", \"Indonesia\", \"Thailand\", \"Saudi Arabia\", \"Vietnam\", # Asia\n",
    "    \"France\", \"Germany\", \"Italy\", \"Spain\", \"United Kingdom\", \"Sweden\", \"Poland\", \"Greece\", # Europe\n",
    "    \"United States\", \"Canada\", \"Mexico\", \"Cuba\", \"Costa Rica\", \"Jamaica\", # North America\n",
    "    \"Brazil\", \"Argentina\", \"Chile\", \"Peru\", \"Colombia\", # South America\n",
    "    \"Australia\", \"New Zealand\", \"Fiji\", \"Papua New Guinea\", \"Tonga\" # Oceania\n",
    "]\n",
    "\n",
    "selected_pairs = list(product(selected_genders, selected_nations))\n",
    "\n",
    "n = len(selected_pairs)"
   ]
  },
  {
   "cell_type": "code",
   "execution_count": null,
   "metadata": {},
   "outputs": [],
   "source": [
    "fig, axes = plt.subplots(n//4, 4, figsize=(32, 6 * n//4), sharey=False)\n",
    "axes = axes.flatten()\n",
    "\n",
    "for i, (gender, nation) in enumerate(selected_pairs):\n",
    "    create_bar_plot(\n",
    "        x=list(uni_counts.get((gender, nation), [])),\n",
    "        y=list(uni_names.get((gender, nation), [])),\n",
    "        palette='plasma', \n",
    "        xlabel=\"Count\",\n",
    "        ylabel=\"\",\n",
    "        title=f\"Top Universities - {gender}, {nation}\",\n",
    "        ax=axes[i]\n",
    "    )\n",
    "\n",
    "plt.tight_layout()\n",
    "plt.show()"
   ]
  },
  {
   "cell_type": "code",
   "execution_count": null,
   "metadata": {},
   "outputs": [],
   "source": [
    "fig, axes = plt.subplots(n//4, 4, figsize=(32, 6 * n//4), sharey=False)\n",
    "axes = axes.flatten()\n",
    "\n",
    "for i, (gender, nation) in enumerate(selected_pairs):\n",
    "    create_bar_plot(\n",
    "        x=list(prog_counts.get((gender, nation), [])),\n",
    "        y=list(prog_names.get((gender, nation), [])),\n",
    "        palette=\"coolwarm\",\n",
    "        xlabel=\"Count\",\n",
    "        ylabel=\"\",\n",
    "        title=f\"Top Programmes - {gender}, {nation}\",\n",
    "        ax=axes[i]\n",
    "    )\n",
    "\n",
    "plt.tight_layout()\n",
    "plt.show()\n"
   ]
  },
  {
   "cell_type": "code",
   "execution_count": null,
   "metadata": {},
   "outputs": [],
   "source": [
    "fig, axes = plt.subplots(n//4, 4, figsize=(32, 6 * n//4), sharey=False)\n",
    "axes = axes.flatten()\n",
    "\n",
    "for i, (gender, nation) in enumerate(selected_pairs):\n",
    "    create_bar_plot(\n",
    "        x=list(country_counts.get((gender, nation), [])),\n",
    "        y=list(country_names.get((gender, nation), [])),\n",
    "        palette=\"viridis\",\n",
    "        xlabel=\"Count\",\n",
    "        ylabel=\"\",\n",
    "        title=f\"Top Countries - {gender}, {nation}\",\n",
    "        ax=axes[i]\n",
    "    )\n",
    "\n",
    "plt.tight_layout()\n",
    "plt.show()"
   ]
  },
  {
   "cell_type": "markdown",
   "metadata": {},
   "source": [
    "## Analysis by 'Economic Class' and 'Nationality'"
   ]
  },
  {
   "cell_type": "code",
   "execution_count": null,
   "metadata": {},
   "outputs": [],
   "source": [
    "class_nation_combinations = list(product(economic_classes, nationalities))\n",
    "data_class_nation = {\n",
    "    (eco_class, nation): {\"uni\": [], \"prog\": [], \"country\": []} for eco_class, nation in class_nation_combinations\n",
    "}\n",
    "\n",
    "for _, row in data.iterrows():\n",
    "    eco_class = row[\"Economic Class\"].strip()\n",
    "    nation = row[\"Nationality\"].strip()\n",
    "    if (eco_class, nation) in data_class_nation:        \n",
    "        universities, programs = extract_universities_programs(row[\"Universities\"])\n",
    "        countries = row[\"Country\"]\n",
    "        data_class_nation[(eco_class, nation)][\"uni\"].extend(universities)\n",
    "        data_class_nation[(eco_class, nation)][\"prog\"].extend(programs)\n",
    "        data_class_nation[(eco_class, nation)][\"country\"].extend(countries)"
   ]
  },
  {
   "cell_type": "code",
   "execution_count": null,
   "metadata": {},
   "outputs": [],
   "source": [
    "uni_names, uni_counts = {}, {}\n",
    "prog_names, prog_counts = {}, {}\n",
    "country_names, country_counts = {}, {}\n",
    "\n",
    "for eco_class, nation in class_nation_combinations:\n",
    "    top_uni = Counter(data_class_nation[(eco_class, nation)][\"uni\"]).most_common(5)\n",
    "    top_prog = Counter(data_class_nation[(eco_class, nation)][\"prog\"]).most_common(5)\n",
    "    top_countries = Counter(data_class_nation[(eco_class, nation)][\"country\"]).most_common(5)\n",
    "\n",
    "    uni_names[(eco_class, nation)], uni_counts[(eco_class, nation)] = zip(*top_uni) if top_uni else ([], [])\n",
    "    prog_names[(eco_class, nation)], prog_counts[(eco_class, nation)] = zip(*top_prog) if top_prog else ([], [])\n",
    "    country_names[(eco_class, nation)], country_counts[(eco_class, nation)] = zip(*top_countries) if top_countries else ([], [])"
   ]
  },
  {
   "cell_type": "code",
   "execution_count": null,
   "metadata": {},
   "outputs": [],
   "source": [
    "selected_eco_classes = [\"low-class\", \"high-class\"]\n",
    "selected_nations = [\n",
    "    \"Nigeria\", \"Egypt\", \"South Africa\", \"Kenya\", \"Ghana\", \"Ethiopia\", \"Algeria\", \"Morocco\", # Africa\n",
    "    \"China\", \"India\", \"Japan\", \"South Korea\", \"Indonesia\", \"Thailand\", \"Saudi Arabia\", \"Vietnam\", # Asia\n",
    "    \"France\", \"Germany\", \"Italy\", \"Spain\", \"United Kingdom\", \"Sweden\", \"Poland\", \"Greece\", # Europe\n",
    "    \"United States\", \"Canada\", \"Mexico\", \"Cuba\", \"Costa Rica\", \"Jamaica\", # North America\n",
    "    \"Brazil\", \"Argentina\", \"Chile\", \"Peru\", \"Colombia\", # South America\n",
    "    \"Australia\", \"New Zealand\", \"Fiji\", \"Papua New Guinea\", \"Tonga\" # Oceania\n",
    "]\n",
    "\n",
    "selected_pairs = list(product(selected_eco_classes, selected_nations))\n",
    "n = len(selected_pairs)"
   ]
  },
  {
   "cell_type": "code",
   "execution_count": null,
   "metadata": {},
   "outputs": [],
   "source": [
    "fig, axes = plt.subplots(n//4, 4, figsize=(32, 6 * n//4), sharey=False)\n",
    "axes = axes.flatten()\n",
    "\n",
    "for i, (eco_class, nation) in enumerate(selected_pairs):\n",
    "    create_bar_plot(\n",
    "        x=list(uni_counts.get((eco_class, nation), [])),\n",
    "        y=list(uni_names.get((eco_class, nation), [])),\n",
    "        palette=\"plasma\", \n",
    "        xlabel=\"Count\",\n",
    "        ylabel=\"\",\n",
    "        title=f\"Top Universities - {eco_class}, {nation}\",\n",
    "        ax=axes[i]\n",
    "    )\n",
    "\n",
    "plt.tight_layout()\n",
    "plt.show()\n"
   ]
  },
  {
   "cell_type": "code",
   "execution_count": null,
   "metadata": {},
   "outputs": [],
   "source": [
    "fig, axes = plt.subplots(n//4, 4, figsize=(32, 6 * n//4), sharey=False)\n",
    "axes = axes.flatten()\n",
    "\n",
    "for i, (eco_class, nation) in enumerate(selected_pairs):\n",
    "    create_bar_plot(\n",
    "        x=list(prog_counts.get((eco_class, nation), [])),\n",
    "        y=list(prog_names.get((eco_class, nation), [])),\n",
    "        palette=\"coolwarm\",\n",
    "        xlabel=\"Count\",\n",
    "        ylabel=\"\",\n",
    "        title=f\"Top Programmes - {eco_class}, {nation}\",\n",
    "        ax=axes[i]\n",
    "    )\n",
    "\n",
    "plt.tight_layout()\n",
    "plt.show()\n"
   ]
  },
  {
   "cell_type": "code",
   "execution_count": null,
   "metadata": {},
   "outputs": [],
   "source": [
    "fig, axes = plt.subplots(n//4, 4, figsize=(32, 6 * n//4), sharey=False)\n",
    "axes = axes.flatten()\n",
    "\n",
    "for i, (eco_class, nation) in enumerate(selected_pairs):\n",
    "    create_bar_plot(\n",
    "        x=list(country_counts.get((eco_class, nation), [])),\n",
    "        y=list(country_names.get((eco_class, nation), [])),\n",
    "        palette=\"viridis\",\n",
    "        xlabel=\"Count\",\n",
    "        ylabel=\"\",\n",
    "        title=f\"Top Countries - {eco_class}, {nation}\",\n",
    "        ax=axes[i]\n",
    "    )\n",
    "\n",
    "plt.tight_layout()\n",
    "plt.show()"
   ]
  }
 ],
 "metadata": {
  "kaggle": {
   "accelerator": "none",
   "dataSources": [
    {
     "datasetId": 6784345,
     "sourceId": 11247709,
     "sourceType": "datasetVersion"
    }
   ],
   "isGpuEnabled": false,
   "isInternetEnabled": true,
   "language": "python",
   "sourceType": "notebook"
  },
  "kernelspec": {
   "display_name": "pyenv",
   "language": "python",
   "name": "python3"
  },
  "language_info": {
   "codemirror_mode": {
    "name": "ipython",
    "version": 3
   },
   "file_extension": ".py",
   "mimetype": "text/x-python",
   "name": "python",
   "nbconvert_exporter": "python",
   "pygments_lexer": "ipython3",
   "version": "3.12.3"
  }
 },
 "nbformat": 4,
 "nbformat_minor": 4
}
